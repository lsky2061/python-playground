{
 "cells": [
  {
   "cell_type": "markdown",
   "id": "131015b4",
   "metadata": {},
   "source": [
    "Triplet Problem \n",
    "\n",
    "Given an array A, find all triplets (i,j,k) such that A[i] + A[j] + A[k] = 0.\n",
    "i != j, j !=k, k!=i\n",
    "A = [-5, 3, 7, 24 ,2 ,2, 0, -4, 3] 2+2-4 = 0\n",
    "\n",
    "A = [0,0,0,0,0]"
   ]
  },
  {
   "cell_type": "code",
   "execution_count": 2,
   "id": "75886a7b",
   "metadata": {},
   "outputs": [],
   "source": [
    "def BinSearch(arr,x):\n",
    "    low = 0\n",
    "    high = len(arr)-1\n",
    "    mid = -1\n",
    "    while (low <= high):\n",
    "        mid = (low + high)//2\n",
    "        if(arr[mid] < x):\n",
    "            low = mid + 1\n",
    "        elif(arr[mid] > x):\n",
    "            high = mid -1\n",
    "        else:\n",
    "            return mid\n",
    "    return -1 #Error"
   ]
  },
  {
   "cell_type": "code",
   "execution_count": 22,
   "id": "ae765ad6",
   "metadata": {},
   "outputs": [],
   "source": [
    "\n",
    "\n",
    "def findTriplets(A):\n",
    "    A = sorted(A)\n",
    "    for i in range(len(A)-1): #Don't need the last one because it will \n",
    "        #be included in the next loop\n",
    "        for j in range(i+1,len(A)):\n",
    "            #A[j+1:] is increasing.\n",
    "            #Find k such that A[k] = - (A[i] + A[j])\n",
    "            #Do binary search.\n",
    "            b = BinSearch(A[j+1:],-(A[i]+A[j]))\n",
    "            k=b+j+1 #binary search is starting at j+1 = 0\n",
    "            #print(\"Found triple for (\",i,\",\",j,\"at \",k)\n",
    "            if(b!=-1):\n",
    "                print(A[i],\"+\",A[j],\"+\",A[k],\"= 0\")\n",
    "                \n",
    "                "
   ]
  },
  {
   "cell_type": "code",
   "execution_count": 23,
   "id": "7e38a8b9",
   "metadata": {},
   "outputs": [
    {
     "name": "stdout",
     "output_type": "stream",
     "text": [
      "-1227 + 0 + 1227 = 0\n",
      "-10 + -5 + 15 = 0\n",
      "-10 + 3 + 7 = 0\n",
      "-5 + 2 + 3 = 0\n",
      "-4 + 1 + 3 = 0\n",
      "-1 + 0 + 1 = 0\n"
     ]
    }
   ],
   "source": [
    "A = [-5, 3, 7, 24 ,2 ,-10, 0, -4, 15,-1,1,1227,-1227]\n",
    "\n",
    "findTriplets(A)"
   ]
  },
  {
   "cell_type": "code",
   "execution_count": null,
   "id": "36bd5b81",
   "metadata": {},
   "outputs": [],
   "source": []
  }
 ],
 "metadata": {
  "kernelspec": {
   "display_name": "Python 3",
   "language": "python",
   "name": "python3"
  },
  "language_info": {
   "codemirror_mode": {
    "name": "ipython",
    "version": 3
   },
   "file_extension": ".py",
   "mimetype": "text/x-python",
   "name": "python",
   "nbconvert_exporter": "python",
   "pygments_lexer": "ipython3",
   "version": "3.8.5"
  }
 },
 "nbformat": 4,
 "nbformat_minor": 5
}
