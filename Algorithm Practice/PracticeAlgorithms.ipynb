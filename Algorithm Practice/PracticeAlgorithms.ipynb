{
 "cells": [
  {
   "cell_type": "markdown",
   "id": "316cd45d",
   "metadata": {},
   "source": [
    "Print all positive integer solutions to the equation $a^3$ + $b^3$ = $c^3$ + $d^3$ for positive integers from 1 to 1000"
   ]
  },
  {
   "cell_type": "code",
   "execution_count": 1,
   "id": "09441d71",
   "metadata": {},
   "outputs": [],
   "source": [
    "dict = {'Name': 'Zara', 'Age': 7, 'Class': 'First'}\n",
    "dict['Name'] = [[2,1],[1,2]]\n",
    "dict[9] = [[2,1]]\n",
    "dict[9].append([1,2])\n",
    "if(16 in dict): \n",
    "    dict[16].append([2,2])\n",
    "else:\n",
    "    dict[16] = [2,2]"
   ]
  },
  {
   "cell_type": "code",
   "execution_count": 2,
   "id": "086a8632",
   "metadata": {},
   "outputs": [],
   "source": [
    "import numpy as np\n",
    "\n",
    "n = 1000\n",
    "\n",
    "\n",
    "dict = {}\n",
    "\n",
    "for c in range(1,n+1):\n",
    "    for d in range (1,n+1):\n",
    "        result = np.power(c,3) + np.power(d,3)\n",
    "        if(result in dict):\n",
    "            dict[result].append([c,d])\n",
    "        else:\n",
    "            dict[result] = [[c,d]]\n",
    "        "
   ]
  },
  {
   "cell_type": "code",
   "execution_count": 3,
   "id": "8aeadc1a",
   "metadata": {},
   "outputs": [
    {
     "name": "stdout",
     "output_type": "stream",
     "text": [
      "[1, 2]\n",
      "[2, 1]\n"
     ]
    }
   ],
   "source": [
    "#print(dict[9])\n",
    "for pair in dict[9]:\n",
    "    print(pair)"
   ]
  },
  {
   "cell_type": "code",
   "execution_count": null,
   "id": "588a8b44",
   "metadata": {},
   "outputs": [],
   "source": [
    "for r in dict:\n",
    "    #listofpairs = dict[r] #extract list of pairs that give the needed sum\n",
    "    for pair1 in dict[r]:\n",
    "        for pair2 in dict[r]:\n",
    "            print(pair1,\",\",pair2)"
   ]
  },
  {
   "cell_type": "markdown",
   "id": "5fe413e6",
   "metadata": {},
   "source": [
    "Now, lets try a sorting algorithm or two!"
   ]
  },
  {
   "cell_type": "code",
   "execution_count": 5,
   "id": "9059777b",
   "metadata": {},
   "outputs": [],
   "source": [
    "#Quick Sort\n",
    "\n",
    "  #This funciton takes the last element as the pivot, places\n",
    "    #  the pivot element at its correct position in sorted\n",
    "    #array, and places all smaller (smaller than pivot)\n",
    "   #to left of pivot and all greater elements to right\n",
    "   #of pivot \n",
    "def partition(arr,low,high):\n",
    "    # pivot (Element to be placed at right position)\n",
    "    pivot = arr[high];  \n",
    " \n",
    "    i = (low - 1)  #Index of smaller element and indicates the  right position of pivot found so far\n",
    "\n",
    "    for j in range(low,high):\n",
    "        # If current element is smaller than the pivot\n",
    "        if (arr[j] < pivot):\n",
    "            i = i+1   # increment index of smaller element\n",
    "            #swap arr[i] and arr[j]\n",
    "            tmp = arr[i]\n",
    "            arr[i] = arr[j]\n",
    "            arr[j] = tmp\n",
    "    #swap arr[i + 1] and arr[high])\n",
    "    tmp = arr[i+1]\n",
    "    arr[i+1] = arr[high]\n",
    "    arr[high] = tmp\n",
    "    \n",
    "    return (i + 1) #Tells us how far we got before all numbers to right \n",
    "#partition point are larger than the pivot\n",
    "    \n",
    "\n",
    "def quicksort(arr,low,high):\n",
    "    if(low < high):\n",
    "        pi = partition(arr,low,high)\n",
    "        quicksort(arr,low, pi -1)\n",
    "        quicksort(arr,pi+1,high)\n"
   ]
  },
  {
   "cell_type": "code",
   "execution_count": 6,
   "id": "1e2505e3",
   "metadata": {},
   "outputs": [],
   "source": [
    "testarr = [10, 80, 30, 90, 40, 50, -70]\n",
    "t2 = testarr.copy()"
   ]
  },
  {
   "cell_type": "code",
   "execution_count": 7,
   "id": "d2d029b5",
   "metadata": {},
   "outputs": [],
   "source": [
    "quicksort(testarr,0,len(testarr)-1)"
   ]
  },
  {
   "cell_type": "code",
   "execution_count": 8,
   "id": "30315e01",
   "metadata": {},
   "outputs": [
    {
     "data": {
      "text/plain": [
       "[-70, 10, 30, 40, 50, 80, 90]"
      ]
     },
     "execution_count": 8,
     "metadata": {},
     "output_type": "execute_result"
    }
   ],
   "source": [
    "testarr"
   ]
  },
  {
   "cell_type": "code",
   "execution_count": 9,
   "id": "5f5172c1",
   "metadata": {},
   "outputs": [
    {
     "name": "stdout",
     "output_type": "stream",
     "text": [
      "[10, 80, 30, 90, 40, 50, -70]\n",
      "[-70, 10, 30, 40, 50, 80, 90]\n"
     ]
    }
   ],
   "source": [
    "print(t2)\n",
    "t2.sort()\n",
    "print(t2)"
   ]
  },
  {
   "cell_type": "markdown",
   "id": "96bc5f0c",
   "metadata": {},
   "source": [
    "**URLify**: Write a method to replace all spaces in a string with %20. You are given true length of the string"
   ]
  },
  {
   "cell_type": "code",
   "execution_count": 10,
   "id": "7122fd5a",
   "metadata": {},
   "outputs": [],
   "source": [
    "def URLify(st,length):\n",
    "    for pos in range(0,length):\n",
    "        if(st[pos] == ' '):\n",
    "            tmp = st[0:pos]+'%20'+st[pos+1:len(st)-2]\n",
    "            #st[pos+3:length+3] = st[pos:length]\n",
    "            #st[pos:pos+2] = '%20'\n",
    "            st = tmp\n",
    "    return tmp"
   ]
  },
  {
   "cell_type": "code",
   "execution_count": 11,
   "id": "5067e6f6",
   "metadata": {},
   "outputs": [
    {
     "data": {
      "text/plain": [
       "'Mr.%20John%20Smith'"
      ]
     },
     "execution_count": 11,
     "metadata": {},
     "output_type": "execute_result"
    }
   ],
   "source": [
    "st = \"Mr. John Smith    \"\n",
    "l = 13\n",
    "\n",
    "URLify(st,l)"
   ]
  },
  {
   "cell_type": "markdown",
   "id": "5d3c2eee",
   "metadata": {},
   "source": [
    "**Missing int** given an input file with four billion non-negative integers, provide an algorithm to generate an interger that is not contained in the file. Assume you have 1GB of memory available for your task."
   ]
  },
  {
   "cell_type": "code",
   "execution_count": 12,
   "id": "5d3c9442",
   "metadata": {},
   "outputs": [],
   "source": [
    "#Sort the file; probably a merge sort is best since \n",
    "#Iterate through file until a missing integer is found\n",
    "\n",
    "#K idea: One pass bubble sort to put the largest integer at the end (or linear search to find largest number), then add 1 to it\n"
   ]
  },
  {
   "cell_type": "markdown",
   "id": "a157ed87",
   "metadata": {},
   "source": [
    "Binary search (assumes array is sorted)"
   ]
  },
  {
   "cell_type": "code",
   "execution_count": 117,
   "id": "e266d335",
   "metadata": {},
   "outputs": [
    {
     "data": {
      "text/plain": [
       "2"
      ]
     },
     "execution_count": 117,
     "metadata": {},
     "output_type": "execute_result"
    }
   ],
   "source": [
    "5//2"
   ]
  },
  {
   "cell_type": "code",
   "execution_count": 13,
   "id": "c210a62f",
   "metadata": {},
   "outputs": [],
   "source": [
    "def binarySearch(arr,x):\n",
    "    low = 0\n",
    "    high = len(arr)-1\n",
    "    mid = -1\n",
    "    while (low <= high):\n",
    "        mid = (low + high)//2\n",
    "        if(arr[mid] < x):\n",
    "            low = mid + 1\n",
    "        elif(arr[mid] > x):\n",
    "            high = mid -1\n",
    "        else:\n",
    "            return mid\n",
    "    return -1 #Error"
   ]
  },
  {
   "cell_type": "code",
   "execution_count": 14,
   "id": "03016c0f",
   "metadata": {},
   "outputs": [
    {
     "data": {
      "text/plain": [
       "5"
      ]
     },
     "execution_count": 14,
     "metadata": {},
     "output_type": "execute_result"
    }
   ],
   "source": [
    "t3 = [0,5,13,23,86,127,3699,3700,3701,3702,4000]\n",
    "\n",
    "binarySearch(t3,127)"
   ]
  },
  {
   "cell_type": "code",
   "execution_count": null,
   "id": "ca1fc48a",
   "metadata": {},
   "outputs": [],
   "source": []
  }
 ],
 "metadata": {
  "kernelspec": {
   "display_name": "Python 3",
   "language": "python",
   "name": "python3"
  },
  "language_info": {
   "codemirror_mode": {
    "name": "ipython",
    "version": 3
   },
   "file_extension": ".py",
   "mimetype": "text/x-python",
   "name": "python",
   "nbconvert_exporter": "python",
   "pygments_lexer": "ipython3",
   "version": "3.8.5"
  }
 },
 "nbformat": 4,
 "nbformat_minor": 5
}
